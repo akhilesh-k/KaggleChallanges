{
  "nbformat": 4,
  "nbformat_minor": 0,
  "metadata": {
    "colab": {
      "name": "kaggleCactus.ipynb",
      "version": "0.3.2",
      "provenance": [],
      "private_outputs": true
    },
    "kernelspec": {
      "name": "python3",
      "display_name": "Python 3"
    }
  },
  "cells": [
    {
      "cell_type": "code",
      "metadata": {
        "id": "ceb7n-l5NHA1",
        "colab_type": "code",
        "colab": {}
      },
      "source": [
        "from google.colab import files\n",
        "files.upload()"
      ],
      "execution_count": 0,
      "outputs": []
    },
    {
      "cell_type": "code",
      "metadata": {
        "id": "weCMqYL-PihP",
        "colab_type": "code",
        "colab": {}
      },
      "source": [
        "!ls\n",
        "!mkdir /root/.kaggle"
      ],
      "execution_count": 0,
      "outputs": []
    },
    {
      "cell_type": "code",
      "metadata": {
        "id": "Nqkia0WzW26d",
        "colab_type": "code",
        "colab": {}
      },
      "source": [
        "rm -rf .kaggle"
      ],
      "execution_count": 0,
      "outputs": []
    },
    {
      "cell_type": "code",
      "metadata": {
        "id": "YCWxEkBTP2mk",
        "colab_type": "code",
        "colab": {}
      },
      "source": [
        "!kaggle"
      ],
      "execution_count": 0,
      "outputs": []
    },
    {
      "cell_type": "code",
      "metadata": {
        "id": "ALxXhSa2YLfo",
        "colab_type": "code",
        "colab": {}
      },
      "source": [
        "!kaggle competitions download -c aerial-cactus-identification"
      ],
      "execution_count": 0,
      "outputs": []
    },
    {
      "cell_type": "code",
      "metadata": {
        "id": "zLWAda0PYOsP",
        "colab_type": "code",
        "colab": {}
      },
      "source": [
        "!unzip -q train.zip\n",
        "!unzip -q test.zip\n",
        "!rm train.zip test.zip"
      ],
      "execution_count": 0,
      "outputs": []
    },
    {
      "cell_type": "code",
      "metadata": {
        "id": "WCgYTv-GRCYD",
        "colab_type": "code",
        "colab": {}
      },
      "source": [
        "import glob\n",
        "import pandas as pd\n",
        "import numpy as np\n",
        "data = pd.read_csv('train.csv')\n",
        "data['path'] = 'train/'\n",
        "data['path'] = data[['path','id']].apply(lambda x: \"\".join(x), axis=1)\n",
        "data.drop(['id'],axis=1,inplace=True)\n",
        "data.head()"
      ],
      "execution_count": 0,
      "outputs": []
    },
    {
      "cell_type": "code",
      "metadata": {
        "id": "Zxaa7h4IlGIf",
        "colab_type": "code",
        "colab": {}
      },
      "source": [
        "import matplotlib.pyplot as plt\n",
        "import matplotlib.image as mpimg\n",
        "%matplotlib inline"
      ],
      "execution_count": 0,
      "outputs": []
    },
    {
      "cell_type": "code",
      "metadata": {
        "id": "lH47_27CZGBk",
        "colab_type": "code",
        "colab": {}
      },
      "source": [
        "all_images = glob.glob('train/*')\n",
        "print(len(all_images), data.shape)\n",
        "\n",
        "IMG_DIM = (30,30,3)\n",
        "\n",
        "from keras.preprocessing.image import img_to_array, load_img, ImageDataGenerator\n",
        "imgs = np.array([ img_to_array( load_img(file, target_size = IMG_DIM) ) for file in data.path.values ])\n",
        "labels = data.has_cactus.values\n",
        "print(imgs.shape,labels.shape)"
      ],
      "execution_count": 0,
      "outputs": []
    },
    {
      "cell_type": "code",
      "metadata": {
        "id": "nXm0MTE3ZRp1",
        "colab_type": "code",
        "colab": {}
      },
      "source": [
        "from sklearn.model_selection import train_test_split\n",
        "X_train,X_val,Y_train,Y_val = train_test_split(imgs,labels,test_size=0.3, stratify=labels)\n",
        "train_datagen = ImageDataGenerator(rescale=1./255, \n",
        "                                   zoom_range=0.3, \n",
        "                                   rotation_range=50,\n",
        "                                   width_shift_range=0.2, \n",
        "                                   height_shift_range=0.2, \n",
        "                                   shear_range=0.2, \n",
        "                                   horizontal_flip=True,\n",
        "                                   vertical_flip=True,\n",
        "                                   fill_mode='nearest')\n",
        "\n",
        "val_datagen = ImageDataGenerator(rescale=1./255)\n",
        "train_generator = train_datagen.flow(X_train, Y_train, batch_size=32)\n",
        "val_generator = val_datagen.flow(X_val, Y_val, batch_size=32)"
      ],
      "execution_count": 0,
      "outputs": []
    },
    {
      "cell_type": "code",
      "metadata": {
        "id": "kT5XDvHSZZOC",
        "colab_type": "code",
        "colab": {}
      },
      "source": [
        "from keras.layers import Input,Conv2D,Dense,Dropout, MaxPooling2D, Flatten\n",
        "from keras import optimizers\n",
        "from keras.models import Model"
      ],
      "execution_count": 0,
      "outputs": []
    },
    {
      "cell_type": "code",
      "metadata": {
        "id": "d2j3AENSZf-c",
        "colab_type": "code",
        "colab": {}
      },
      "source": [
        "#Input Layer\n",
        "inp = Input(IMG_DIM)\n",
        "inp"
      ],
      "execution_count": 0,
      "outputs": []
    },
    {
      "cell_type": "code",
      "metadata": {
        "id": "bawz8HNtZiz3",
        "colab_type": "code",
        "colab": {}
      },
      "source": [
        "#1st Conv\n",
        "conv_1  = Conv2D( 64, kernel_size=(2,2), activation='relu')(inp)\n",
        "pool_1 = MaxPooling2D(pool_size=(2,2))(conv_1)\n",
        "conv_1\n",
        "pool_1"
      ],
      "execution_count": 0,
      "outputs": []
    },
    {
      "cell_type": "code",
      "metadata": {
        "id": "D-1ePoW9Zn8p",
        "colab_type": "code",
        "colab": {}
      },
      "source": [
        "#2nd Conv\n",
        "conv_2 = Conv2D( 32, kernel_size=(2,2), activation='relu')(pool_1)\n",
        "pool_2 = MaxPooling2D(pool_size=(2,2))(conv_2)\n",
        "conv_2\n",
        "pool_2"
      ],
      "execution_count": 0,
      "outputs": []
    },
    {
      "cell_type": "code",
      "metadata": {
        "id": "UzmAViwXZvUg",
        "colab_type": "code",
        "colab": {}
      },
      "source": [
        "#flatten\n",
        "flatten = Flatten()(pool_2)\n",
        "dropout_1 = Dropout(0.3)(flatten)\n"
      ],
      "execution_count": 0,
      "outputs": []
    },
    {
      "cell_type": "code",
      "metadata": {
        "id": "nNzyZTbAZyyw",
        "colab_type": "code",
        "colab": {}
      },
      "source": [
        "#1st Dense\n",
        "dense_1 = Dense(512, activation='relu')(dropout_1)\n",
        "dropout_2 = Dropout(0.3)(dense_1)"
      ],
      "execution_count": 0,
      "outputs": []
    },
    {
      "cell_type": "code",
      "metadata": {
        "id": "XGriY1BPZ5c7",
        "colab_type": "code",
        "colab": {}
      },
      "source": [
        "#2nd Dense\n",
        "dense_2 = Dense(64,activation='relu')(dropout_2)\n",
        "dropout_3 = Dropout(0.2)(dense_2)"
      ],
      "execution_count": 0,
      "outputs": []
    },
    {
      "cell_type": "code",
      "metadata": {
        "id": "z_fBkG_FZ8oB",
        "colab_type": "code",
        "colab": {}
      },
      "source": [
        "#output\n",
        "output = Dense(1, activation='sigmoid')(dropout_3)\n",
        "model = Model(inp,output)\n",
        "model.compile( loss='binary_crossentropy', optimizer=optimizers.Adam(lr=1e-4), metrics=['accuracy'] )"
      ],
      "execution_count": 0,
      "outputs": []
    },
    {
      "cell_type": "code",
      "metadata": {
        "id": "tl6N3lndZ_8v",
        "colab_type": "code",
        "colab": {}
      },
      "source": [
        "model.summary()"
      ],
      "execution_count": 0,
      "outputs": []
    },
    {
      "cell_type": "code",
      "metadata": {
        "id": "jEglqJlTaETu",
        "colab_type": "code",
        "colab": {}
      },
      "source": [
        "from keras.callbacks import ModelCheckpoint, EarlyStopping\n",
        "epochs=300\n",
        "model_checkpoint  = ModelCheckpoint('model_best_checkpoint.h5', save_best_only=True, monitor='val_acc', mode='max', verbose=2)\n",
        "early_stopping = EarlyStopping(monitor='val_loss', patience=15, mode='min')\n",
        "\n",
        "callback_list = [model_checkpoint]\n",
        "\n",
        "history = model.fit_generator(train_generator, steps_per_epoch=100, epochs=300,\n",
        "                              validation_data=val_generator, validation_steps=50, \n",
        "                              verbose=2,callbacks=callback_list)"
      ],
      "execution_count": 0,
      "outputs": []
    },
    {
      "cell_type": "code",
      "metadata": {
        "id": "IenZ_0wjioZd",
        "colab_type": "code",
        "colab": {}
      },
      "source": [
        "tests =  glob.glob('test/*')\n",
        "imgs = np.array([ img_to_array( load_img(file, target_size = IMG_DIM) ) for file in tests ])/255\n",
        "submission = pd.DataFrame({'id':tests})\n",
        "submission.id = submission.id.apply(lambda x: x.split('/')[1])\n",
        "submission.head()"
      ],
      "execution_count": 0,
      "outputs": []
    },
    {
      "cell_type": "code",
      "metadata": {
        "id": "yT01POy-rt9J",
        "colab_type": "code",
        "colab": {}
      },
      "source": [
        "print('out dataset has {} rows and {} columns'.format(train.shape[0],train.shape[1]))"
      ],
      "execution_count": 0,
      "outputs": []
    },
    {
      "cell_type": "code",
      "metadata": {
        "id": "U3dt-Kblirk7",
        "colab_type": "code",
        "colab": {}
      },
      "source": [
        "submission['has_cactus'] = np.squeeze(model.predict(imgs))\n",
        "submission.to_csv('submission_cactus.csv',index=False)\n",
        "submission.head()"
      ],
      "execution_count": 0,
      "outputs": []
    },
    {
      "cell_type": "code",
      "metadata": {
        "id": "aUrM6fIjiwdq",
        "colab_type": "code",
        "colab": {}
      },
      "source": [
        "from google.colab import files\n",
        "files.download('submission_cactus.csv')"
      ],
      "execution_count": 0,
      "outputs": []
    },
    {
      "cell_type": "code",
      "metadata": {
        "id": "OCp7AWeejNyR",
        "colab_type": "code",
        "colab": {}
      },
      "source": [
        "acc=history.history['acc']  ##getting  accuracy of each epochs\n",
        "epochs_=range(0,epochs)    \n",
        "plt.plot(epochs_,acc,label='training accuracy')\n",
        "plt.xlabel('no of epochs')\n",
        "plt.ylabel('accuracy')\n",
        "\n",
        "acc_val=history.history['val_acc']  ##getting validation accuracy of each epochs\n",
        "plt.scatter(epochs_,acc_val,label=\"validation accuracy\")\n",
        "plt.title(\"no of epochs vs accuracy\")\n",
        "plt.legend()"
      ],
      "execution_count": 0,
      "outputs": []
    },
    {
      "cell_type": "code",
      "metadata": {
        "id": "ipCk2LxdzMc_",
        "colab_type": "code",
        "colab": {}
      },
      "source": [
        ""
      ],
      "execution_count": 0,
      "outputs": []
    }
  ]
}